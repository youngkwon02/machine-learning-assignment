{
 "cells": [
  {
   "cell_type": "markdown",
   "metadata": {},
   "source": [
    "# Taylor approximation"
   ]
  },
  {
   "cell_type": "markdown",
   "metadata": {},
   "source": [
    "## import library"
   ]
  },
  {
   "cell_type": "code",
   "execution_count": 1,
   "metadata": {},
   "outputs": [],
   "source": [
    "import numpy as np\n",
    "import matplotlib.image as img\n",
    "import matplotlib.pyplot as plt\n",
    "from matplotlib import cm\n",
    "import matplotlib.colors as colors"
   ]
  },
  {
   "cell_type": "markdown",
   "metadata": {},
   "source": [
    "## define a function $f(x) = cos(x)$"
   ]
  },
  {
   "cell_type": "code",
   "execution_count": 3,
   "metadata": {},
   "outputs": [],
   "source": [
    "def function(x):\n",
    "    \n",
    "    # ++++++++++++++++++++++++++++++++++++++++++++++++++\n",
    "    # complete the blanks\n",
    "    #\n",
    "    y = np.cos(x)\n",
    "    #\n",
    "    # ++++++++++++++++++++++++++++++++++++++++++++++++++\n",
    "    \n",
    "    return y "
   ]
  },
  {
   "cell_type": "markdown",
   "metadata": {},
   "source": [
    "## define the derivative $f'(x)$ of function $f(x)$"
   ]
  },
  {
   "cell_type": "code",
   "execution_count": 4,
   "metadata": {},
   "outputs": [],
   "source": [
    "def derivative_function(x):\n",
    "    \n",
    "    # ++++++++++++++++++++++++++++++++++++++++++++++++++\n",
    "    # complete the blanks\n",
    "    #\n",
    "    y_prime = - np.sin(x)\n",
    "    #\n",
    "    # ++++++++++++++++++++++++++++++++++++++++++++++++++\n",
    "    \n",
    "    return y_prime"
   ]
  },
  {
   "cell_type": "markdown",
   "metadata": {},
   "source": [
    "## define the first order Taylor approxation of the function at $x_0$\n",
    "- $\\hat{f}(x) = f(x_0) + f'(x_0)(x - x_0)$"
   ]
  },
  {
   "cell_type": "code",
   "execution_count": 6,
   "metadata": {},
   "outputs": [],
   "source": [
    "def approximate_function(x, x0):\n",
    "\n",
    "    # ++++++++++++++++++++++++++++++++++++++++++++++++++\n",
    "    # complete the blanks\n",
    "    #\n",
    "    y_hat = np.cos(x0) - np.sin(x0)(x - x0)\n",
    "    #\n",
    "    # ++++++++++++++++++++++++++++++++++++++++++++++++++\n",
    "\n",
    "    return y_hat"
   ]
  },
  {
   "cell_type": "markdown",
   "metadata": {},
   "source": [
    "___"
   ]
  },
  {
   "cell_type": "markdown",
   "metadata": {},
   "source": [
    "___"
   ]
  },
  {
   "cell_type": "markdown",
   "metadata": {},
   "source": [
    "## functions for presenting the results"
   ]
  },
  {
   "cell_type": "markdown",
   "metadata": {},
   "source": [
    "___"
   ]
  },
  {
   "cell_type": "markdown",
   "metadata": {},
   "source": [
    "___"
   ]
  },
  {
   "cell_type": "code",
   "execution_count": 7,
   "metadata": {},
   "outputs": [],
   "source": [
    "def function_result_01():\n",
    "    \n",
    "    x = np.linspace(-10, 10, 100)\n",
    "    y = function(x)\n",
    "\n",
    "    plt.figure(figsize=(8,6))\n",
    "    plt.plot(x, y, 'b')\n",
    "    plt.xlim([-10, 10])\n",
    "    plt.ylim([-10, 10])\n",
    "    plt.show()"
   ]
  },
  {
   "cell_type": "code",
   "execution_count": 8,
   "metadata": {},
   "outputs": [],
   "source": [
    "def function_result_02():\n",
    "    \n",
    "    x       = np.linspace(-10, 10, 100)\n",
    "    y_prime = derivative_function(x)\n",
    "\n",
    "    plt.figure(figsize=(8,6))\n",
    "    plt.plot(x, y_prime, 'r')\n",
    "    plt.xlim([-10, 10])\n",
    "    plt.ylim([-10, 10])\n",
    "    plt.show()"
   ]
  },
  {
   "cell_type": "code",
   "execution_count": 9,
   "metadata": {},
   "outputs": [],
   "source": [
    "def function_result_03():\n",
    "    \n",
    "    x = np.linspace(-10, 10, 100)\n",
    "    y = function(x)\n",
    "\n",
    "    x0      = 1\n",
    "    y0      = function(x0)      \n",
    "    y_hat   = approximate_function(x, x0)\n",
    "\n",
    "    plt.figure(figsize=(8,6))\n",
    "    plt.plot(x, y, 'b')\n",
    "    plt.plot(x, y_hat, 'r')\n",
    "    plt.plot(x0, y0, 'go')\n",
    "    plt.xlim([-10, 10])\n",
    "    plt.ylim([-10, 10])\n",
    "    plt.show()"
   ]
  },
  {
   "cell_type": "code",
   "execution_count": 10,
   "metadata": {},
   "outputs": [],
   "source": [
    "def function_result_04():\n",
    "\n",
    "    x1      = -1\n",
    "    x2      = 1\n",
    "    value1  = function(x1)\n",
    "    value2  = function(x2)\n",
    "    \n",
    "    print('value1 = ', value1)\n",
    "    print('value2 = ', value2)"
   ]
  },
  {
   "cell_type": "code",
   "execution_count": 11,
   "metadata": {},
   "outputs": [],
   "source": [
    "def function_result_05():\n",
    "\n",
    "    x1      = -1\n",
    "    x2      = 1\n",
    "    value1  = derivative_function(x1)\n",
    "    value2  = derivative_function(x2)\n",
    "    \n",
    "    print('value1 = ', value1)\n",
    "    print('value2 = ', value2)"
   ]
  },
  {
   "cell_type": "markdown",
   "metadata": {},
   "source": [
    "___"
   ]
  },
  {
   "cell_type": "markdown",
   "metadata": {},
   "source": [
    "___"
   ]
  },
  {
   "cell_type": "markdown",
   "metadata": {},
   "source": [
    "# results"
   ]
  },
  {
   "cell_type": "markdown",
   "metadata": {},
   "source": [
    "___"
   ]
  },
  {
   "cell_type": "markdown",
   "metadata": {},
   "source": [
    "___"
   ]
  },
  {
   "cell_type": "code",
   "execution_count": 12,
   "metadata": {},
   "outputs": [
    {
     "name": "stdout",
     "output_type": "stream",
     "text": [
      "**************************************************\n",
      "## [RESULT 01]\n",
      "**************************************************\n"
     ]
    },
    {
     "data": {
      "image/png": "[encoded data removed]",
      "text/plain": [
       "<Figure size 576x432 with 1 Axes>"
      ]
     },
     "metadata": {
      "needs_background": "light"
     },
     "output_type": "display_data"
    },
    {
     "name": "stdout",
     "output_type": "stream",
     "text": [
      "**************************************************\n",
      "## [RESULT 02]\n",
      "**************************************************\n"
     ]
    },
    {
     "data": {
      "image/png": "[encoded data removed]",
      "text/plain": [
       "<Figure size 576x432 with 1 Axes>"
      ]
     },
     "metadata": {
      "needs_background": "light"
     },
     "output_type": "display_data"
    },
    {
     "name": "stdout",
     "output_type": "stream",
     "text": [
      "**************************************************\n",
      "## [RESULT 03]\n",
      "**************************************************\n"
     ]
    },
    {
     "ename": "TypeError",
     "evalue": "'numpy.float64' object is not callable",
     "output_type": "error",
     "traceback": [
      "\u001b[0;31m---------------------------------------------------------------------------\u001b[0m",
      "\u001b[0;31mTypeError\u001b[0m                                 Traceback (most recent call last)",
      "\u001b[1;32m/Users/jake-alden/workspace/assignment/machine-learning-assignment/assignment-03/assignment_03_2.ipynb Cell 25'\u001b[0m in \u001b[0;36m<cell line: 3>\u001b[0;34m()\u001b[0m\n\u001b[1;32m      <a href='vscode-notebook-cell:/Users/jake-alden/workspace/assignment/machine-learning-assignment/assignment-03/assignment_03_2.ipynb#ch0000024?line=7'>8</a>\u001b[0m \u001b[39mprint\u001b[39m(title)\n\u001b[1;32m      <a href='vscode-notebook-cell:/Users/jake-alden/workspace/assignment/machine-learning-assignment/assignment-03/assignment_03_2.ipynb#ch0000024?line=8'>9</a>\u001b[0m \u001b[39mprint\u001b[39m(\u001b[39m'\u001b[39m\u001b[39m**************************************************\u001b[39m\u001b[39m'\u001b[39m)\n\u001b[0;32m---> <a href='vscode-notebook-cell:/Users/jake-alden/workspace/assignment/machine-learning-assignment/assignment-03/assignment_03_2.ipynb#ch0000024?line=9'>10</a>\u001b[0m \u001b[39meval\u001b[39;49m(name_function)\n",
      "File \u001b[0;32m<string>:1\u001b[0m, in \u001b[0;36m<module>\u001b[0;34m\u001b[0m\n",
      "\u001b[1;32m/Users/jake-alden/workspace/assignment/machine-learning-assignment/assignment-03/assignment_03_2.ipynb Cell 17'\u001b[0m in \u001b[0;36mfunction_result_03\u001b[0;34m()\u001b[0m\n\u001b[1;32m      <a href='vscode-notebook-cell:/Users/jake-alden/workspace/assignment/machine-learning-assignment/assignment-03/assignment_03_2.ipynb#ch0000016?line=5'>6</a>\u001b[0m x0      \u001b[39m=\u001b[39m \u001b[39m1\u001b[39m\n\u001b[1;32m      <a href='vscode-notebook-cell:/Users/jake-alden/workspace/assignment/machine-learning-assignment/assignment-03/assignment_03_2.ipynb#ch0000016?line=6'>7</a>\u001b[0m y0      \u001b[39m=\u001b[39m function(x0)      \n\u001b[0;32m----> <a href='vscode-notebook-cell:/Users/jake-alden/workspace/assignment/machine-learning-assignment/assignment-03/assignment_03_2.ipynb#ch0000016?line=7'>8</a>\u001b[0m y_hat   \u001b[39m=\u001b[39m approximate_function(x, x0)\n\u001b[1;32m     <a href='vscode-notebook-cell:/Users/jake-alden/workspace/assignment/machine-learning-assignment/assignment-03/assignment_03_2.ipynb#ch0000016?line=9'>10</a>\u001b[0m plt\u001b[39m.\u001b[39mfigure(figsize\u001b[39m=\u001b[39m(\u001b[39m8\u001b[39m,\u001b[39m6\u001b[39m))\n\u001b[1;32m     <a href='vscode-notebook-cell:/Users/jake-alden/workspace/assignment/machine-learning-assignment/assignment-03/assignment_03_2.ipynb#ch0000016?line=10'>11</a>\u001b[0m plt\u001b[39m.\u001b[39mplot(x, y, \u001b[39m'\u001b[39m\u001b[39mb\u001b[39m\u001b[39m'\u001b[39m)\n",
      "\u001b[1;32m/Users/jake-alden/workspace/assignment/machine-learning-assignment/assignment-03/assignment_03_2.ipynb Cell 9'\u001b[0m in \u001b[0;36mapproximate_function\u001b[0;34m(x, x0)\u001b[0m\n\u001b[1;32m      <a href='vscode-notebook-cell:/Users/jake-alden/workspace/assignment/machine-learning-assignment/assignment-03/assignment_03_2.ipynb#ch0000008?line=0'>1</a>\u001b[0m \u001b[39mdef\u001b[39;00m \u001b[39mapproximate_function\u001b[39m(x, x0):\n\u001b[1;32m      <a href='vscode-notebook-cell:/Users/jake-alden/workspace/assignment/machine-learning-assignment/assignment-03/assignment_03_2.ipynb#ch0000008?line=1'>2</a>\u001b[0m \n\u001b[1;32m      <a href='vscode-notebook-cell:/Users/jake-alden/workspace/assignment/machine-learning-assignment/assignment-03/assignment_03_2.ipynb#ch0000008?line=2'>3</a>\u001b[0m     \u001b[39m# ++++++++++++++++++++++++++++++++++++++++++++++++++\u001b[39;00m\n\u001b[1;32m      <a href='vscode-notebook-cell:/Users/jake-alden/workspace/assignment/machine-learning-assignment/assignment-03/assignment_03_2.ipynb#ch0000008?line=3'>4</a>\u001b[0m     \u001b[39m# complete the blanks\u001b[39;00m\n\u001b[1;32m      <a href='vscode-notebook-cell:/Users/jake-alden/workspace/assignment/machine-learning-assignment/assignment-03/assignment_03_2.ipynb#ch0000008?line=4'>5</a>\u001b[0m     \u001b[39m#\u001b[39;00m\n\u001b[0;32m----> <a href='vscode-notebook-cell:/Users/jake-alden/workspace/assignment/machine-learning-assignment/assignment-03/assignment_03_2.ipynb#ch0000008?line=5'>6</a>\u001b[0m     y_hat \u001b[39m=\u001b[39m np\u001b[39m.\u001b[39mcos(x0) \u001b[39m+\u001b[39m \u001b[39m-\u001b[39m np\u001b[39m.\u001b[39;49msin(x0)(x \u001b[39m-\u001b[39;49m x0)\n\u001b[1;32m      <a href='vscode-notebook-cell:/Users/jake-alden/workspace/assignment/machine-learning-assignment/assignment-03/assignment_03_2.ipynb#ch0000008?line=6'>7</a>\u001b[0m     \u001b[39m#\u001b[39;00m\n\u001b[1;32m      <a href='vscode-notebook-cell:/Users/jake-alden/workspace/assignment/machine-learning-assignment/assignment-03/assignment_03_2.ipynb#ch0000008?line=7'>8</a>\u001b[0m     \u001b[39m# ++++++++++++++++++++++++++++++++++++++++++++++++++\u001b[39;00m\n\u001b[1;32m     <a href='vscode-notebook-cell:/Users/jake-alden/workspace/assignment/machine-learning-assignment/assignment-03/assignment_03_2.ipynb#ch0000008?line=9'>10</a>\u001b[0m     \u001b[39mreturn\u001b[39;00m y_hat\n",
      "\u001b[0;31mTypeError\u001b[0m: 'numpy.float64' object is not callable"
     ]
    }
   ],
   "source": [
    "number_result = 5 \n",
    "\n",
    "for i in range(number_result):\n",
    "    title = '## [RESULT {:02d}]'.format(i+1)\n",
    "    name_function = 'function_result_{:02d}()'.format(i+1)\n",
    "\n",
    "    print('**************************************************')\n",
    "    print(title)\n",
    "    print('**************************************************')\n",
    "    eval(name_function)"
   ]
  },
  {
   "cell_type": "code",
   "execution_count": null,
   "metadata": {},
   "outputs": [],
   "source": []
  }
 ],
 "metadata": {
  "kernelspec": {
   "display_name": "Python 3",
   "language": "python",
   "name": "python3"
  },
  "language_info": {
   "codemirror_mode": {
    "name": "ipython",
    "version": 3
   },
   "file_extension": ".py",
   "mimetype": "text/x-python",
   "name": "python",
   "nbconvert_exporter": "python",
   "pygments_lexer": "ipython3",
   "version": "3.9.8"
  }
 },
 "nbformat": 4,
 "nbformat_minor": 2
}
